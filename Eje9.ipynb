{
 "cells": [
  {
   "cell_type": "markdown",
   "id": "28dedaea-fee2-4cab-868c-57ff33600181",
   "metadata": {},
   "source": [
    "# Ejercicio 9\n",
    "\n",
    "\n",
    "---\n",
    "\n",
    "Escribir una función a la que se le pase una cadena < nombre> y muestre por pantalla el saludo ¡hola < nombre>!."
   ]
  },
  {
   "cell_type": "code",
   "execution_count": 1,
   "id": "4145bcec-9d1e-4bb0-a9f3-d2f11ab45b3e",
   "metadata": {},
   "outputs": [
    {
     "name": "stdout",
     "output_type": "stream",
     "text": [
      "Bienvenido\n"
     ]
    },
    {
     "name": "stdin",
     "output_type": "stream",
     "text": [
      "Ingresa tu nombre:  Jose Angel\n"
     ]
    }
   ],
   "source": [
    "# solicitar el nombre del usuario\n",
    "print(\"Bienvenido\")\n",
    "nombre = input(\"Ingresa tu nombre: \")"
   ]
  },
  {
   "cell_type": "code",
   "execution_count": 2,
   "id": "b668d03b-ee94-4040-b0b9-d5f37802ddb1",
   "metadata": {},
   "outputs": [
    {
     "name": "stdout",
     "output_type": "stream",
     "text": [
      "¡Hola Jose Angel!\n"
     ]
    }
   ],
   "source": [
    "# se imprime el nombre\n",
    "print(f\"¡Hola {nombre}!\")"
   ]
  },
  {
   "cell_type": "code",
   "execution_count": null,
   "id": "b3437483-78a6-4e1f-b97f-267fa957fb2a",
   "metadata": {},
   "outputs": [],
   "source": []
  }
 ],
 "metadata": {
  "kernelspec": {
   "display_name": "Python 3 (ipykernel)",
   "language": "python",
   "name": "python3"
  },
  "language_info": {
   "codemirror_mode": {
    "name": "ipython",
    "version": 3
   },
   "file_extension": ".py",
   "mimetype": "text/x-python",
   "name": "python",
   "nbconvert_exporter": "python",
   "pygments_lexer": "ipython3",
   "version": "3.9.7"
  }
 },
 "nbformat": 4,
 "nbformat_minor": 5
}
